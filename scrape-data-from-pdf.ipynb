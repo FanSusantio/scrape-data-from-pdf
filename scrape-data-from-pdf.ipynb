{
 "cells": [
  {
   "cell_type": "markdown",
   "id": "ab26b239",
   "metadata": {},
   "source": [
    "# How to extract data from pdf"
   ]
  },
  {
   "cell_type": "markdown",
   "id": "6a04d672",
   "metadata": {},
   "source": [
    "## Using PyPDF2"
   ]
  },
  {
   "cell_type": "markdown",
   "id": "dbfa6778",
   "metadata": {},
   "source": [
    "PyPDF2 is a free and open source pure-python PDF library capable of splitting, merging, cropping, and transforming the pages of PDF files."
   ]
  },
  {
   "cell_type": "markdown",
   "id": "daea5987",
   "metadata": {},
   "source": [
    "Reference links:\n",
    "* https://www.analyticsvidhya.com/blog/2021/09/pypdf2-library-for-working-with-pdf-files-in-python/\n",
    "* https://pypdf2.readthedocs.io/en/latest/user/extract-text.html\n",
    "* https://medium.com/@greekykhs/how-to-convert-pdf-to-image-using-python-aefdf20bdfba"
   ]
  },
  {
   "cell_type": "raw",
   "id": "dc62e01c",
   "metadata": {},
   "source": [
    "from PyPDF2 import PdfReader\n",
    "\n",
    "reader = PdfReader(\"example.pdf\")\n",
    "page = reader.pages[0]\n",
    "print(page.extract_text())"
   ]
  },
  {
   "cell_type": "markdown",
   "id": "655b77a5",
   "metadata": {},
   "source": [
    "## Using Tabula"
   ]
  },
  {
   "cell_type": "markdown",
   "id": "d7138b98",
   "metadata": {},
   "source": [
    "tabula-py is a simple Python wrapper of tabula-java, which can read table of PDF. You can read tables from PDF\n",
    "and convert into pandas’s DataFrame. tabula-py also enables you to convert a PDF file into CSV/TSV/JSON file."
   ]
  },
  {
   "cell_type": "markdown",
   "id": "cfe9d324",
   "metadata": {},
   "source": [
    "Reference links:\n",
    "* https://towardsdatascience.com/scrape-data-from-pdf-files-using-python-fe2dc96b1e68\n",
    "* https://www.geeksforgeeks.org/working-with-pdf-files-in-python/"
   ]
  },
  {
   "cell_type": "code",
   "execution_count": 12,
   "id": "ab7ae44d",
   "metadata": {},
   "outputs": [],
   "source": [
    "import tabula as tb"
   ]
  },
  {
   "cell_type": "code",
   "execution_count": 13,
   "id": "9e76c642",
   "metadata": {},
   "outputs": [],
   "source": [
    "file = 'data.pdf'"
   ]
  },
  {
   "cell_type": "code",
   "execution_count": 14,
   "id": "0502b8c0",
   "metadata": {},
   "outputs": [],
   "source": [
    "data = tb.read_pdf(file, pages=\"2\")"
   ]
  },
  {
   "cell_type": "code",
   "execution_count": 15,
   "id": "79f6e1e5",
   "metadata": {},
   "outputs": [
    {
     "name": "stdout",
     "output_type": "stream",
     "text": [
      "[   Sepal.Length  Sepal.Width  Petal.Length  Petal.Width Species\n",
      "0           5.1          3.5           1.4          0.2  setosa\n",
      "1           4.9          3.0           1.4          0.2  setosa\n",
      "2           4.7          3.2           1.3          0.2  setosa\n",
      "3           4.6          3.1           1.5          0.2  setosa\n",
      "4           5.0          3.6           1.4          0.2  setosa\n",
      "5           5.4          3.9           1.7          0.4  setosa,    Unnamed: 0  Sepal.Length  Sepal.Width  Petal.Length  Petal.Width    Species\n",
      "0         145           6.7          3.3           5.7          2.5  virginica\n",
      "1         146           6.7          3.0           5.2          2.3  virginica\n",
      "2         147           6.3          2.5           5.0          1.9  virginica\n",
      "3         148           6.5          3.0           5.2          2.0  virginica\n",
      "4         149           6.2          3.4           5.4          2.3  virginica\n",
      "5         150           5.9          3.0           5.1          1.8  virginica]\n"
     ]
    }
   ],
   "source": [
    "print(data)"
   ]
  },
  {
   "cell_type": "code",
   "execution_count": 16,
   "id": "b58d1285",
   "metadata": {},
   "outputs": [
    {
     "name": "stdout",
     "output_type": "stream",
     "text": [
      "Python version:\n",
      "    3.8.8 (default, Apr 13 2021, 15:08:03) [MSC v.1916 64 bit (AMD64)]\n",
      "Java version:\n",
      "    java version \"1.8.0_341\"\r\n",
      "Java(TM) SE Runtime Environment (build 1.8.0_341-b10)\r\n",
      "Java HotSpot(TM) Client VM (build 25.341-b10, mixed mode)\n",
      "tabula-py version: 2.5.0\n",
      "platform: Windows-10-10.0.22000-SP0\n",
      "uname:\n",
      "    uname_result(system='Windows', node='LAPTOP-8AS2GIO2', release='10', version='10.0.22000', machine='AMD64', processor='Intel64 Family 6 Model 126 Stepping 5, GenuineIntel')\n",
      "linux_distribution: ('', '', '')\n",
      "mac_ver: ('', ('', '', ''), '')\n"
     ]
    }
   ],
   "source": [
    "tb.environment_info()"
   ]
  },
  {
   "cell_type": "markdown",
   "id": "148cf874",
   "metadata": {},
   "source": [
    "## What about tables from a scanned PDF? "
   ]
  },
  {
   "cell_type": "markdown",
   "id": "054cb27d",
   "metadata": {},
   "source": [
    "Text extraction from pdfs can be hard... refer to https://pypdf2.readthedocs.io/en/latest/user/extract-text.html"
   ]
  },
  {
   "cell_type": "markdown",
   "id": "8ae39af0",
   "metadata": {},
   "source": [
    "Other references:\n",
    "* https://www.geeksforgeeks.org/python-reading-contents-of-pdf-using-ocr-optical-character-recognition/?ref=lbp\n",
    "* https://blog.alivate.com.au/poppler-windows/\n",
    "* https://stackoverflow.com/questions/47533875/how-to-extract-table-as-text-from-the-pdf-using-python"
   ]
  },
  {
   "cell_type": "raw",
   "id": "5728fc4a",
   "metadata": {},
   "source": [
    "# Requires Python 3.6 or higher due to f-strings\n",
    "\n",
    "# Import libraries\n",
    "import platform\n",
    "from tempfile import TemporaryDirectory\n",
    "from pathlib import Path\n",
    "\n",
    "import pytesseract\n",
    "from pdf2image import convert_from_path\n",
    "from PIL import Image\n",
    "\n",
    "if platform.system() == \"Windows\":\n",
    "\t# We may need to do some additional downloading and setup...\n",
    "\t# Windows needs a PyTesseract Download\n",
    "\t# https://github.com/UB-Mannheim/tesseract/wiki/Downloading-Tesseract-OCR-Engine\n",
    "\n",
    "\tpytesseract.pytesseract.tesseract_cmd = (\n",
    "\t\tr\"C:\\Program Files\\Tesseract-OCR\\tesseract.exe\"\n",
    "\t)\n",
    "\n",
    "\t# Windows also needs poppler_exe\n",
    "\tpath_to_poppler_exe = Path(r\"C:\\.....\")\n",
    "\t\n",
    "\t# Put our output files in a sane place...\n",
    "\tout_directory = Path(r\"~\\Desktop\").expanduser()\n",
    "else:\n",
    "\tout_directory = Path(\"~\").expanduser()\t\n",
    "\n",
    "# Path of the Input pdf\n",
    "PDF_file = Path(r\"d.pdf\")\n",
    "\n",
    "# Store all the pages of the PDF in a variable\n",
    "image_file_list = []\n",
    "\n",
    "text_file = out_directory / Path(\"out_text.txt\")\n",
    "\n",
    "def main():\n",
    "\t''' Main execution point of the program'''\n",
    "\twith TemporaryDirectory() as tempdir:\n",
    "\t\t# Create a temporary directory to hold our temporary images.\n",
    "\n",
    "\t\t\"\"\"\n",
    "\t\tPart #1 : Converting PDF to images\n",
    "\t\t\"\"\"\n",
    "\n",
    "\t\tif platform.system() == \"Windows\":\n",
    "\t\t\tpdf_pages = convert_from_path(\n",
    "\t\t\t\tPDF_file, 500, poppler_path=path_to_poppler_exe\n",
    "\t\t\t)\n",
    "\t\telse:\n",
    "\t\t\tpdf_pages = convert_from_path(PDF_file, 500)\n",
    "\t\t# Read in the PDF file at 500 DPI\n",
    "\n",
    "\t\t# Iterate through all the pages stored above\n",
    "\t\tfor page_enumeration, page in enumerate(pdf_pages, start=1):\n",
    "\t\t\t# enumerate() \"counts\" the pages for us.\n",
    "\n",
    "\t\t\t# Create a file name to store the image\n",
    "\t\t\tfilename = f\"{tempdir}\\page_{page_enumeration:03}.jpg\"\n",
    "\n",
    "\t\t\t# Declaring filename for each page of PDF as JPG\n",
    "\t\t\t# For each page, filename will be:\n",
    "\t\t\t# PDF page 1 -> page_001.jpg\n",
    "\t\t\t# PDF page 2 -> page_002.jpg\n",
    "\t\t\t# PDF page 3 -> page_003.jpg\n",
    "\t\t\t# ....\n",
    "\t\t\t# PDF page n -> page_00n.jpg\n",
    "\n",
    "\t\t\t# Save the image of the page in system\n",
    "\t\t\tpage.save(filename, \"JPEG\")\n",
    "\t\t\timage_file_list.append(filename)\n",
    "\n",
    "\t\t\"\"\"\n",
    "\t\tPart #2 - Recognizing text from the images using OCR\n",
    "\t\t\"\"\"\n",
    "\n",
    "\t\twith open(text_file, \"a\") as output_file:\n",
    "\t\t\t# Open the file in append mode so that\n",
    "\t\t\t# All contents of all images are added to the same file\n",
    "\n",
    "\t\t\t# Iterate from 1 to total number of pages\n",
    "\t\t\tfor image_file in image_file_list:\n",
    "\n",
    "\t\t\t\t# Set filename to recognize text from\n",
    "\t\t\t\t# Again, these files will be:\n",
    "\t\t\t\t# page_1.jpg\n",
    "\t\t\t\t# page_2.jpg\n",
    "\t\t\t\t# ....\n",
    "\t\t\t\t# page_n.jpg\n",
    "\n",
    "\t\t\t\t# Recognize the text as string in image using pytesserct\n",
    "\t\t\t\ttext = str(((pytesseract.image_to_string(Image.open(image_file)))))\n",
    "\n",
    "\t\t\t\t# The recognized text is stored in variable text\n",
    "\t\t\t\t# Any string processing may be applied on text\n",
    "\t\t\t\t# Here, basic formatting has been done:\n",
    "\t\t\t\t# In many PDFs, at line ending, if a word can't\n",
    "\t\t\t\t# be written fully, a 'hyphen' is added.\n",
    "\t\t\t\t# The rest of the word is written in the next line\n",
    "\t\t\t\t# Eg: This is a sample text this word here GeeksF-\n",
    "\t\t\t\t# orGeeks is half on first line, remaining on next.\n",
    "\t\t\t\t# To remove this, we replace every '-\\n' to ''.\n",
    "\t\t\t\ttext = text.replace(\"-\\n\", \"\")\n",
    "\n",
    "\t\t\t\t# Finally, write the processed text to the file.\n",
    "\t\t\t\toutput_file.write(text)\n",
    "\n",
    "\t\t\t# At the end of the with .. output_file block\n",
    "\t\t\t# the file is closed after writing all the text.\n",
    "\t\t# At the end of the with .. tempdir block, the\n",
    "\t\t# TemporaryDirectory() we're using gets removed!\t\n",
    "\t# End of main function!\n",
    "\t\n",
    "if __name__ == \"__main__\":\n",
    "\t# We only want to run this if it's directly executed!\n",
    "\tmain()\n"
   ]
  },
  {
   "cell_type": "code",
   "execution_count": null,
   "id": "8cfc1435",
   "metadata": {},
   "outputs": [],
   "source": []
  }
 ],
 "metadata": {
  "kernelspec": {
   "display_name": "Python 3",
   "language": "python",
   "name": "python3"
  },
  "language_info": {
   "codemirror_mode": {
    "name": "ipython",
    "version": 3
   },
   "file_extension": ".py",
   "mimetype": "text/x-python",
   "name": "python",
   "nbconvert_exporter": "python",
   "pygments_lexer": "ipython3",
   "version": "3.8.8"
  }
 },
 "nbformat": 4,
 "nbformat_minor": 5
}
